{
  "nbformat": 4,
  "nbformat_minor": 0,
  "metadata": {
    "colab": {
      "provenance": [],
      "gpuType": "T4",
      "toc_visible": true,
      "mount_file_id": "1XcTk-DClaoc27Hz8gBj_PW1SQNqDYb7U",
      "authorship_tag": "ABX9TyMmTZUYO+zue6ncg9XOhST+",
      "include_colab_link": true
    },
    "kernelspec": {
      "name": "python3",
      "display_name": "Python 3"
    },
    "language_info": {
      "name": "python"
    },
    "accelerator": "GPU"
  },
  "cells": [
    {
      "cell_type": "markdown",
      "metadata": {
        "id": "view-in-github",
        "colab_type": "text"
      },
      "source": [
        "<a href=\"https://colab.research.google.com/github/TnzTanim/Android-App-TFlite-object-detection-/blob/main/Tflite_Model_Training.ipynb\" target=\"_parent\"><img src=\"https://colab.research.google.com/assets/colab-badge.svg\" alt=\"Open In Colab\"/></a>"
      ]
    },
    {
      "cell_type": "markdown",
      "source": [
        "#Creating a Virtual Environment To install Model Maker"
      ],
      "metadata": {
        "id": "lb2j0N5GnzjZ"
      }
    },
    {
      "cell_type": "code",
      "execution_count": null,
      "metadata": {
        "id": "JDRhSjEbAMkK"
      },
      "outputs": [],
      "source": [
        "%env PYTHONPATH = # /env/python"
      ]
    },
    {
      "cell_type": "code",
      "source": [
        "import sys\n",
        "sys.path.append('/usr/local/lib/python3.9/site-packages')"
      ],
      "metadata": {
        "id": "rvNq8GN9AYdH"
      },
      "execution_count": null,
      "outputs": []
    },
    {
      "cell_type": "code",
      "source": [
        "\n",
        "!conda create -n myenv python=3.9"
      ],
      "metadata": {
        "id": "ALIMEsy6Aitv"
      },
      "execution_count": null,
      "outputs": []
    },
    {
      "cell_type": "code",
      "source": [
        "%%shell\n",
        "eval \"$(conda shell.bash hook)\"\n",
        "conda activate myenv\n",
        "pip install tflite-model-maker"
      ],
      "metadata": {
        "id": "BOFEq7z3AlVL"
      },
      "execution_count": null,
      "outputs": []
    },
    {
      "cell_type": "code",
      "source": [
        "\n",
        "from google.colab import drive\n",
        "drive.mount('/content/drive',force_remount=True)\n"
      ],
      "metadata": {
        "id": "uTke3lg1A0QH"
      },
      "execution_count": null,
      "outputs": []
    },
    {
      "cell_type": "code",
      "source": [
        "%%shell\n",
        "eval \"$(conda shell.bash hook)\"\n",
        "conda activate myenv\n",
        "pip install ipykernel"
      ],
      "metadata": {
        "id": "Kw4lJzVeBhR2"
      },
      "execution_count": null,
      "outputs": []
    },
    {
      "cell_type": "markdown",
      "source": [
        "##Installing some additional packages"
      ],
      "metadata": {
        "id": "tQEBb2ISoM0D"
      }
    },
    {
      "cell_type": "code",
      "source": [
        "%%shell\n",
        "eval \"$(conda shell.bash hook)\"\n",
        "conda activate myenv\n",
        "pip install opencv-python\n",
        "python --version\n"
      ],
      "metadata": {
        "id": "U1a_cjnjB0SI"
      },
      "execution_count": null,
      "outputs": []
    },
    {
      "cell_type": "code",
      "source": [
        "\n",
        "%%shell\n",
        "eval \"$(conda shell.bash hook)\"\n",
        "conda activate myenv\n",
        "pip install numpy==1.23.4"
      ],
      "metadata": {
        "id": "qp77K_wtIxF1"
      },
      "execution_count": null,
      "outputs": []
    },
    {
      "cell_type": "code",
      "source": [
        "%%shell\n",
        "eval \"$(conda shell.bash hook)\"\n",
        "conda activate myenv\n",
        "pip install pycocotools"
      ],
      "metadata": {
        "id": "3jTU49HzLth6"
      },
      "execution_count": null,
      "outputs": []
    },
    {
      "cell_type": "markdown",
      "source": [
        "#Training script"
      ],
      "metadata": {
        "id": "6fsRwhZaoVEi"
      }
    },
    {
      "cell_type": "code",
      "source": [
        "%%shell\n",
        "eval \"$(conda shell.bash hook)\"\n",
        "conda activate myenv\n",
        "python Train.py"
      ],
      "metadata": {
        "id": "Rpny5jAzKsAv"
      },
      "execution_count": null,
      "outputs": []
    },
    {
      "cell_type": "markdown",
      "source": [
        "##Testing the model with sample images"
      ],
      "metadata": {
        "id": "56HS0YTpojCh"
      }
    },
    {
      "cell_type": "code",
      "source": [
        "import numpy as np\n",
        "import tensorflow as tf\n",
        "from PIL import Image\n",
        "from google.colab.patches import cv2_imshow\n",
        "\n",
        "# Load the TensorFlow Lite model\n",
        "model_path = '/content/Footballmodel.tflite'\n",
        "interpreter = tf.lite.Interpreter(model_path=model_path)\n",
        "interpreter.allocate_tensors()\n",
        "\n",
        "# Load the labels\n",
        "classes = ['player', 'goalkeeper', 'ball', 'referee']  # Replace with actual class names\n",
        "\n",
        "def preprocess_image(image_path):\n",
        "    img = Image.open(image_path)\n",
        "    img = img.convert(\"RGB\")\n",
        "    img = img.resize((input_width, input_height))\n",
        "    img = np.array(img, dtype=np.uint8)  # Change data type to UINT8\n",
        "    return img\n",
        "\n",
        "# Set the input image size based on the model's input dimensions\n",
        "input_height, input_width = 320, 320\n",
        "\n",
        "def detect_objects(interpreter, image, threshold):\n",
        "    input_details = interpreter.get_input_details()\n",
        "    output_details = interpreter.get_output_details()\n",
        "\n",
        "    interpreter.set_tensor(input_details[0]['index'], image)\n",
        "    interpreter.invoke()\n",
        "\n",
        "    detection_boxes = interpreter.get_tensor(output_details[1]['index'])\n",
        "    detection_scores = interpreter.get_tensor(output_details[0]['index'])  # Adjust this index as needed\n",
        "\n",
        "    detection_boxes = np.squeeze(detection_boxes)\n",
        "    detection_scores = np.squeeze(detection_scores)\n",
        "\n",
        "    results = []\n",
        "    for i in range(len(detection_scores)):\n",
        "        if detection_scores[i] >= threshold:\n",
        "            result = {\n",
        "                'bounding_box': detection_boxes[i],\n",
        "                'class_id': 0,  # Scalar value for detection_classes\n",
        "                'score': detection_scores[i]\n",
        "            }\n",
        "            results.append(result)\n",
        "    return results\n",
        "\n",
        "# Run object detection and draw results\n",
        "image_path = '/content/5.jpg'  # Replace with your image path\n",
        "input_image = preprocess_image(image_path)\n",
        "detection_results = detect_objects(interpreter, input_image[tf.newaxis, ...], threshold=0.1)\n",
        "\n",
        "image_np = cv2.imread(image_path)\n",
        "for obj in detection_results:\n",
        "    ymin, xmin, ymax, xmax = obj['bounding_box']\n",
        "    xmin = int(xmin * image_np.shape[1])\n",
        "    xmax = int(xmax * image_np.shape[1])\n",
        "    ymin = int(ymin * image_np.shape[0])\n",
        "    ymax = int(ymax * image_np.shape[0])\n",
        "\n",
        "    class_id = obj['class_id']\n",
        "    class_name = classes[class_id]\n",
        "\n",
        "    cv2.rectangle(image_np, (xmin, ymin), (xmax, ymax), (0, 255, 0), 2)\n",
        "    label = f\"{class_name}: {int(obj['score'] * 100)}%\"\n",
        "    cv2.putText(image_np, label, (xmin, ymin - 10), cv2.FONT_HERSHEY_SIMPLEX, 0.5, (0, 255, 0), 2)\n",
        "\n",
        "cv2_imshow(image_np)\n",
        "\n"
      ],
      "metadata": {
        "id": "aVpE1K-7ZsVP"
      },
      "execution_count": null,
      "outputs": []
    },
    {
      "cell_type": "code",
      "source": [],
      "metadata": {
        "id": "TmPYgF7obw7b"
      },
      "execution_count": null,
      "outputs": []
    }
  ]
}